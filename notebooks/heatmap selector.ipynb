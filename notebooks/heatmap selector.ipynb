{
 "cells": [
  {
   "cell_type": "code",
   "execution_count": null,
   "metadata": {
    "collapsed": true
   },
   "outputs": [],
   "source": [
    "import os\n",
    "import ebf\n",
    "import numpy as np\n",
    "from matplotlib import pyplot as plt\n",
    "from c_functions import bin as _bin, integerize as _int"
   ]
  },
  {
   "cell_type": "code",
   "execution_count": null,
   "metadata": {
    "collapsed": false
   },
   "outputs": [],
   "source": [
    "halo_ebf_dir = os.path.join(os.environ['HOMEPATH'], 'Desktop', 'halo_ebf')\n",
    "halo_filehandels = os.listdir(halo_ebf_dir)\n",
    "halo_filehandels"
   ]
  },
  {
   "cell_type": "code",
   "execution_count": null,
   "metadata": {
    "collapsed": false
   },
   "outputs": [],
   "source": [
    "halo_fh = halo_filehandels[-2]\n",
    "halo = ebf.read(os.path.join(halo_ebf_dir, halo_fh))"
   ]
  },
  {
   "cell_type": "code",
   "execution_count": null,
   "metadata": {
    "collapsed": false
   },
   "outputs": [],
   "source": [
    "def fix_rslice(grid, rslices=[4]):\n",
    "    \n",
    "    #center = grid.shape[0] / 2\n",
    "    ratio = (2.0 * 300.0 / 600.0) #(1.0 * Config.getint('grid_options', 'size'))\n",
    "    #x_bump, y_bump = np.nonzero(grid[295:305, 295:305, 0] == grid[295:305, 295:305, 0].max())\n",
    "    x_center = (grid.shape[1] / 2) #+ (10 - x_bump[0])\n",
    "    y_center = (grid.shape[0] / 2) #+ (10 - y_bump[0])\n",
    "    # if VERBOSE:\n",
    "    # print('fixing radial data slice')\n",
    "    # print('ratio: ', ratio)\n",
    "    # print('slices: ', rslices)\n",
    "    # print('center:', center)\n",
    "    for r in rslices:\n",
    "        for i in range(grid.shape[0]):\n",
    "            for q in range(grid.shape[1]):\n",
    "                value = np.sqrt(\n",
    "                    (np.square(i - y_center) + np.square(q - x_center)))\n",
    "                value /= ratio\n",
    "                if value > 300.0:\n",
    "                    value = 0.0\n",
    "                grid[i, q, r] = value\n",
    "    return grid"
   ]
  },
  {
   "cell_type": "code",
   "execution_count": null,
   "metadata": {
    "collapsed": false
   },
   "outputs": [],
   "source": [
    "data_dir = ''\n",
    "for pth in os.path.abspath(os.path.curdir).split('\\\\')[:-1]:\n",
    "    data_dir = os.path.join(data_dir, pth)\n",
    "data_dir = os.path.join(data_dir, 'data')\n",
    "data_dir"
   ]
  },
  {
   "cell_type": "code",
   "execution_count": null,
   "metadata": {
    "collapsed": false
   },
   "outputs": [],
   "source": [
    "px, py = _int(halo['px'].astype(np.float64), halo['py'].astype(np.float64))\n",
    "ab_mags = halo['wfirst-hst_h158'].astype(np.float64)\n",
    "ap_mags = ab_mags + (5 * np.log10(4.0 * 1e5))\n",
    "r_proj = np.sqrt(np.square(halo['px']) + np.square(halo['py'])).astype(np.float64)\n",
    "lims = np.array([27.0, 28.0, 29.0], dtype=np.float64)"
   ]
  },
  {
   "cell_type": "code",
   "execution_count": null,
   "metadata": {
    "collapsed": false
   },
   "outputs": [],
   "source": [
    "grid = _bin(px, py, ab_mags, ap_mags, r_proj, lims, halo['satid'].astype(np.int32))"
   ]
  },
  {
   "cell_type": "code",
   "execution_count": null,
   "metadata": {
    "collapsed": false
   },
   "outputs": [],
   "source": [
    "# box coord set making function\n",
    "def make_boxe(xy, size=100):\n",
    "    '''\n",
    "\n",
    "    '''\n",
    "    x, y = xy\n",
    "    x += 300\n",
    "    y += 300\n",
    "    segment = (size * 0.5)\n",
    "    return ((x - segment, x + segment), (y - segment, y + segment))\n",
    "\n",
    "# box placing function\n",
    "def place_box(_ax, _box, _boxid):\n",
    "    '''\n",
    "    _ax is the subplot to plot on\n",
    "    _box is ((x0, x1), (y0, y1))\n",
    "    _boxid is the box ID\n",
    "    \n",
    "    make a single box from a set of numbers like this: box = ((x0, x1), (y0, y1))\n",
    "    _ax.vlines(x0, y0, y1)\n",
    "    _ax.vlines(x1, y0, y1)\n",
    "    _ax.hlines(y0, x0, x1)\n",
    "    _ax.hlines(y1, x0, x1)\n",
    "    '''\n",
    "    # unpack box tuples\n",
    "    _age, _feh = _box\n",
    "    \n",
    "    # find box center\n",
    "    a_center = _age[0] + ((_age[1] - _age[0]) * 0.5)\n",
    "    f_center = _feh[1] + ((_feh[1] - _feh[0]) * 0.5)\n",
    "    \n",
    "    # set box label\n",
    "    box_label = 'R ' + str(_boxid)\n",
    "    _ax.text(a_center, f_center, box_label, \n",
    "             ha='center', \n",
    "             fontsize=10, \n",
    "             color='k', \n",
    "             bbox={'facecolor':'white', 'alpha':0.75, 'pad':2})\n",
    "    \n",
    "    # params\n",
    "    lwidth = 3\n",
    "    lstyle = 'dashed'\n",
    "    lclr = 'r'\n",
    "    aph = .3\n",
    "    \n",
    "    # set lines\n",
    "    _ax.vlines(_age[0], _feh[0], _feh[1], \n",
    "               colors=lclr, \n",
    "               linestyles=lstyle,\n",
    "               alpha = aph,\n",
    "               linewidth=lwidth)\n",
    "    _ax.vlines(_age[1], _feh[0], _feh[1], \n",
    "               colors=lclr, \n",
    "               linestyles=lstyle,\n",
    "               alpha = aph,\n",
    "               linewidth=lwidth)\n",
    "    _ax.hlines(_feh[0], _age[0], _age[1], \n",
    "               colors=lclr, \n",
    "               linestyles=lstyle,\n",
    "               alpha = aph,\n",
    "               linewidth=lwidth)\n",
    "    _ax.hlines(_feh[1], _age[0], _age[1], \n",
    "               colors=lclr, \n",
    "               linestyles=lstyle,\n",
    "               alpha = aph,\n",
    "               linewidth=lwidth)\n"
   ]
  },
  {
   "cell_type": "code",
   "execution_count": null,
   "metadata": {
    "collapsed": false
   },
   "outputs": [],
   "source": [
    "fig = plt.figure(figsize=(10, 10))\n",
    "\n",
    "ax = fig.add_subplot(111)\n",
    "ax.set_title(halo_fh)\n",
    "ticks = [str(i) for i in np.linspace(-150, 150, 7)]\n",
    "\n",
    "ax.set_xlabel('KPC')\n",
    "ax.set_xticklabels(ticks)\n",
    "ax.set_ylabel('KPC')\n",
    "ax.set_yticklabels(ticks)\n",
    "\n",
    "# fill radius gridslice\n",
    "grid = fix_rslice(grid)\n",
    "\n",
    "#arr = np.log10(grid[8:, :-3, 0])\n",
    "arr = grid[8:, :-3, 3]\n",
    "\n",
    "ax.pcolormesh(arr)#, cmap=plt.cm.bone_r)#, vmin=1.0, vmax=4.5)\n",
    "cp = ax.contour(grid[:, :, 4], [50, 100, 150, 300], colors='k',linewidths=1.5, alpha=.25, linestyles='dashed')\n",
    "cl = ax.clabel(cp, [50, 100, 150, 300], inline=1, fmt='%s Kpc', fontsize=10, color='k', linewidth=50, alpha=1)\n",
    "\n",
    "# limits\n",
    "center = grid.shape[0] / 2\n",
    "include = center / 2\n",
    "lim0 = center + include\n",
    "lim1 = center - include\n",
    "ax.set_xlim([lim1, lim0])\n",
    "ax.set_ylim([lim1, lim0])\n",
    "\n",
    "# boxes\n",
    "box = make_boxe((-53,45), size=10)\n",
    "place_box(ax, box, 1)\n",
    "\n",
    "ax.axes.grid(alpha=.4, linestyle='dashed',color='grey')\n",
    "#fig.savefig(os.path.join(os.path.curdir, halo_fh.split('.')[0] + '.png'), dpi=800)\n",
    "plt.show()"
   ]
  }
 ],
 "metadata": {
  "kernelspec": {
   "display_name": "Python 2",
   "language": "python",
   "name": "python2"
  },
  "language_info": {
   "codemirror_mode": {
    "name": "ipython",
    "version": 2
   },
   "file_extension": ".py",
   "mimetype": "text/x-python",
   "name": "python",
   "nbconvert_exporter": "python",
   "pygments_lexer": "ipython2",
   "version": "2.7.13"
  }
 },
 "nbformat": 4,
 "nbformat_minor": 2
}
