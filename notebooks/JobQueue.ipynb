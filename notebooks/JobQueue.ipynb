{
 "cells": [
  {
   "cell_type": "code",
   "execution_count": 1,
   "metadata": {
    "collapsed": true
   },
   "outputs": [],
   "source": [
    "from __future__ import print_function"
   ]
  },
  {
   "cell_type": "code",
   "execution_count": 2,
   "metadata": {
    "collapsed": true
   },
   "outputs": [],
   "source": [
    "class JobQueue:\n",
    "    '''\n",
    "    JobQueue Object for Starcat Multiprocessing.\n",
    "    \n",
    "    Submit new, recieve undone and report finished jobs to and from this object.\n",
    "    \n",
    "    A single job is a Python dict object.\n",
    "    A job looks like this:\n",
    "    \n",
    "    somejob = {\n",
    "        'id': int,\n",
    "        'name': str,\n",
    "        'func': [func_name, [args]]\n",
    "    }\n",
    "    '''\n",
    "    \n",
    "    def __init__(self):\n",
    "        \n",
    "        self.new_jobs = []\n",
    "        self.sent_jobs = []\n",
    "        self.done_jobs = []\n",
    "        self.made = 0\n",
    "        self.new = 0\n",
    "        self.sent = 0\n",
    "        self.done = 0\n",
    "        \n",
    "    def make(self):\n",
    "        blank_job = {}\n",
    "        self.made += 1\n",
    "        blank_job['id'] = self.made\n",
    "        blank_job['name'] = None\n",
    "        blank_job['func'] = [None, []]\n",
    "        return blank_job\n",
    "        \n",
    "    def add(self, job):\n",
    "        self.new_jobs.append(job)\n",
    "        self.new += 1\n",
    "    \n",
    "    def get(self):\n",
    "        if not self.new:\n",
    "            print('no jobs to to')\n",
    "            job = self.make()\n",
    "            return job\n",
    "            \n",
    "        job = self.new_jobs.pop()\n",
    "        self.sent_jobs.append(job)\n",
    "        self.new -= 1\n",
    "        self.sent += 1\n",
    "        return job\n",
    "        \n",
    "    def finish(self, job):\n",
    "        completed_job = self.sent_jobs.pop(self.sent_jobs.index(job))\n",
    "        self.done_jobs.append(completed_job)\n",
    "        self.sent -= 1\n",
    "        self.done += 1\n",
    "    \n",
    "    def report(self):\n",
    "        print('\\n==================')\n",
    "        print('  JobList Report')\n",
    "        print('------------------')\n",
    "        print('made  :', self.made)\n",
    "        print('ready :', self.new)\n",
    "        print('doing :', self.sent)\n",
    "        print('done  :', self.done)\n",
    "        print('==================')\n",
    "        "
   ]
  },
  {
   "cell_type": "code",
   "execution_count": 3,
   "metadata": {
    "collapsed": true
   },
   "outputs": [],
   "source": [
    "def do_job(job, queue):\n",
    "    print('\\n==================')\n",
    "    print('    Doing Job')\n",
    "    print('------------------')\n",
    "    print('id   :', job['id'])\n",
    "    print('name :', job['name'])\n",
    "    print('func :', job['func'][0])\n",
    "    print('args :', job['func'][1])\n",
    "    print('==================')\n",
    "    \n",
    "    if (job['func'][0]):\n",
    "        \n",
    "        job['func'][0](job['func'][1])\n",
    "    \n",
    "    queue.finish(job)\n",
    "    print('done')\n",
    "\n",
    "def call_back(args):\n",
    "    x, y = args\n",
    "    print('[call_back] call back')\n",
    "    print('[call_back] args:', x, ',', y)\n",
    "    print('[call_back] result', x + y)"
   ]
  },
  {
   "cell_type": "code",
   "execution_count": 4,
   "metadata": {
    "collapsed": false
   },
   "outputs": [
    {
     "name": "stdout",
     "output_type": "stream",
     "text": [
      "\n",
      "==================\n",
      "  JobList Report\n",
      "------------------\n",
      "made  : 1\n",
      "ready : 0\n",
      "doing : 0\n",
      "done  : 0\n",
      "==================\n"
     ]
    }
   ],
   "source": [
    "jq = JobQueue()\n",
    "j1 = jq.make()\n",
    "jq.report()"
   ]
  },
  {
   "cell_type": "code",
   "execution_count": 5,
   "metadata": {
    "collapsed": false
   },
   "outputs": [
    {
     "data": {
      "text/plain": [
       "{'func': [<function __main__.call_back>, [2, 4]], 'id': 1, 'name': 'callback'}"
      ]
     },
     "execution_count": 5,
     "metadata": {},
     "output_type": "execute_result"
    }
   ],
   "source": [
    "j1['name'] = 'callback'\n",
    "j1['func'] = [call_back, [2, 4]]\n",
    "j1"
   ]
  },
  {
   "cell_type": "code",
   "execution_count": 6,
   "metadata": {
    "collapsed": false
   },
   "outputs": [
    {
     "name": "stdout",
     "output_type": "stream",
     "text": [
      "\n",
      "==================\n",
      "  JobList Report\n",
      "------------------\n",
      "made  : 1\n",
      "ready : 1\n",
      "doing : 0\n",
      "done  : 0\n",
      "==================\n"
     ]
    }
   ],
   "source": [
    "jq.add(j1)\n",
    "jq.report()"
   ]
  },
  {
   "cell_type": "code",
   "execution_count": 7,
   "metadata": {
    "collapsed": false
   },
   "outputs": [
    {
     "data": {
      "text/plain": [
       "True"
      ]
     },
     "execution_count": 7,
     "metadata": {},
     "output_type": "execute_result"
    }
   ],
   "source": [
    "j2 = jq.get()\n",
    "j2 == j1"
   ]
  },
  {
   "cell_type": "code",
   "execution_count": 8,
   "metadata": {
    "collapsed": false
   },
   "outputs": [
    {
     "name": "stdout",
     "output_type": "stream",
     "text": [
      "\n",
      "==================\n",
      "  JobList Report\n",
      "------------------\n",
      "made  : 1\n",
      "ready : 0\n",
      "doing : 1\n",
      "done  : 0\n",
      "==================\n"
     ]
    }
   ],
   "source": [
    "jq.report()"
   ]
  },
  {
   "cell_type": "code",
   "execution_count": 9,
   "metadata": {
    "collapsed": false
   },
   "outputs": [
    {
     "name": "stdout",
     "output_type": "stream",
     "text": [
      "\n",
      "==================\n",
      "    Doing Job\n",
      "------------------\n",
      "id   : 1\n",
      "name : callback\n",
      "func : <function call_back at 0x000000000515C208>\n",
      "args : [2, 4]\n",
      "==================\n",
      "[call_back] call back\n",
      "[call_back] args: 2 , 4\n",
      "[call_back] result 6\n",
      "done\n"
     ]
    }
   ],
   "source": [
    "do_job(j2, jq)"
   ]
  },
  {
   "cell_type": "code",
   "execution_count": 10,
   "metadata": {
    "collapsed": false
   },
   "outputs": [
    {
     "name": "stdout",
     "output_type": "stream",
     "text": [
      "\n",
      "==================\n",
      "  JobList Report\n",
      "------------------\n",
      "made  : 1\n",
      "ready : 0\n",
      "doing : 0\n",
      "done  : 1\n",
      "==================\n"
     ]
    }
   ],
   "source": [
    "jq.report()"
   ]
  },
  {
   "cell_type": "code",
   "execution_count": 11,
   "metadata": {
    "collapsed": false
   },
   "outputs": [
    {
     "name": "stderr",
     "output_type": "stream",
     "text": [
      "(daemon    ) Starting\n",
      "(non-daemon) Starting\n",
      "(non-daemon) Exiting\n",
      "(daemon    ) Exiting\n"
     ]
    }
   ],
   "source": [
    "import threading\n",
    "import time\n",
    "import logging\n",
    "\n",
    "logging.basicConfig(level=logging.DEBUG,\n",
    "                    format='(%(threadName)-10s) %(message)s',\n",
    "                    )\n",
    "\n",
    "def daemon():\n",
    "    logging.debug('Starting')\n",
    "    time.sleep(2)\n",
    "    logging.debug('Exiting')\n",
    "\n",
    "d = threading.Thread(name='daemon', target=daemon)\n",
    "d.setDaemon(True)\n",
    "\n",
    "def non_daemon():\n",
    "    logging.debug('Starting')\n",
    "    logging.debug('Exiting')\n",
    "\n",
    "t = threading.Thread(name='non-daemon', target=non_daemon)\n",
    "\n",
    "d.start()\n",
    "t.start()"
   ]
  },
  {
   "cell_type": "code",
   "execution_count": null,
   "metadata": {
    "collapsed": false
   },
   "outputs": [],
   "source": [
    "threading.Thread()"
   ]
  },
  {
   "cell_type": "code",
   "execution_count": null,
   "metadata": {
    "collapsed": false
   },
   "outputs": [],
   "source": []
  },
  {
   "cell_type": "code",
   "execution_count": null,
   "metadata": {
    "collapsed": false
   },
   "outputs": [],
   "source": []
  },
  {
   "cell_type": "code",
   "execution_count": null,
   "metadata": {
    "collapsed": true
   },
   "outputs": [],
   "source": []
  },
  {
   "cell_type": "code",
   "execution_count": null,
   "metadata": {
    "collapsed": false
   },
   "outputs": [],
   "source": []
  }
 ],
 "metadata": {
  "kernelspec": {
   "display_name": "Python 2",
   "language": "python",
   "name": "python2"
  },
  "language_info": {
   "codemirror_mode": {
    "name": "ipython",
    "version": 2
   },
   "file_extension": ".py",
   "mimetype": "text/x-python",
   "name": "python",
   "nbconvert_exporter": "python",
   "pygments_lexer": "ipython2",
   "version": "2.7.13"
  }
 },
 "nbformat": 4,
 "nbformat_minor": 2
}
