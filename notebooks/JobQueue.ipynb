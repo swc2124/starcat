{
 "cells": [
  {
   "cell_type": "code",
   "execution_count": null,
   "metadata": {
    "collapsed": true
   },
   "outputs": [],
   "source": [
    "from __future__ import print_function"
   ]
  },
  {
   "cell_type": "code",
   "execution_count": null,
   "metadata": {
    "collapsed": true
   },
   "outputs": [],
   "source": [
    "class JobQueue:\n",
    "    '''\n",
    "    JobQueue Object for Starcat Multiprocessing.\n",
    "    \n",
    "    Submit new, recieve undone and report finished jobs to and from this object.\n",
    "    \n",
    "    A single job is a Python dict object.\n",
    "    A job looks like this:\n",
    "    \n",
    "    somejob = {\n",
    "        'id': int,\n",
    "        'name': str,\n",
    "        'func': [func_name, [args]]\n",
    "    }\n",
    "    '''\n",
    "    def __init__(self):\n",
    "        \n",
    "        self.new_jobs = []\n",
    "        self.sent_jobs = []\n",
    "        self.done_jobs = []\n",
    "        self.made = 0\n",
    "        self.new = 0\n",
    "        self.sent = 0\n",
    "        self.done = 0\n",
    "        \n",
    "    def make(self):\n",
    "        blank_job = {}\n",
    "        self.made += 1\n",
    "        blank_job['id'] = self.made\n",
    "        blank_job['name'] = None\n",
    "        blank_job['func'] = [None, []]\n",
    "        return blank_job\n",
    "        \n",
    "    def add(self, job):\n",
    "        self.new_jobs.append(job)\n",
    "        self.new += 1\n",
    "    \n",
    "    def get(self):\n",
    "        if not self.new:\n",
    "            print('no jobs to to')\n",
    "            job = self.make()\n",
    "            return job\n",
    "            \n",
    "        job = self.new_jobs.pop()\n",
    "        self.sent_jobs.append(job)\n",
    "        self.new -= 1\n",
    "        self.sent += 1\n",
    "        return job\n",
    "        \n",
    "    def finish(self, job):\n",
    "        completed_job = self.sent_jobs.pop(self.sent_jobs.index(job))\n",
    "        self.done_jobs.append(completed_job)\n",
    "        self.sent -= 1\n",
    "        self.done += 1\n",
    "    \n",
    "    def report(self):\n",
    "        print('\\n==================')\n",
    "        print('  JobList Report')\n",
    "        print('------------------')\n",
    "        print('made  :', self.made)\n",
    "        print('ready :', self.new)\n",
    "        print('doing :', self.sent)\n",
    "        print('done  :', self.done)\n",
    "        print('==================')\n",
    "        "
   ]
  },
  {
   "cell_type": "code",
   "execution_count": null,
   "metadata": {
    "collapsed": true
   },
   "outputs": [],
   "source": [
    "def do_job(job, queue):\n",
    "    print('\\n==================')\n",
    "    print('    Doing Job')\n",
    "    print('------------------')\n",
    "    print('id   :', job['id'])\n",
    "    print('name :', job['name'])\n",
    "    print('func :', job['func'][0])\n",
    "    print('args :', job['func'][1])\n",
    "    print('==================')\n",
    "    \n",
    "    if (job['func'][0]):\n",
    "        \n",
    "        job['func'][0](job['func'][1])\n",
    "    \n",
    "    queue.finish(job)\n",
    "    print('done')\n",
    "\n",
    "def call_back(args):\n",
    "    x, y = args\n",
    "    print('[call_back] call back')\n",
    "    print('[call_back] args:', x, ',', y)\n",
    "    print('[call_back] result', x + y)"
   ]
  },
  {
   "cell_type": "code",
   "execution_count": null,
   "metadata": {
    "collapsed": false
   },
   "outputs": [],
   "source": [
    "jq = JobQueue()\n",
    "j1 = jq.make()\n",
    "jq.report()"
   ]
  },
  {
   "cell_type": "code",
   "execution_count": null,
   "metadata": {
    "collapsed": false
   },
   "outputs": [],
   "source": [
    "j1['name'] = 'callback'\n",
    "j1['func'] = [call_back, [2, 4]]\n",
    "j1"
   ]
  },
  {
   "cell_type": "code",
   "execution_count": null,
   "metadata": {
    "collapsed": false
   },
   "outputs": [],
   "source": [
    "jq.add(j1)\n",
    "jq.report()"
   ]
  },
  {
   "cell_type": "code",
   "execution_count": null,
   "metadata": {
    "collapsed": false
   },
   "outputs": [],
   "source": [
    "j2 = jq.get()\n",
    "j2 == j1"
   ]
  },
  {
   "cell_type": "code",
   "execution_count": null,
   "metadata": {
    "collapsed": false
   },
   "outputs": [],
   "source": [
    "jq.report()"
   ]
  },
  {
   "cell_type": "code",
   "execution_count": null,
   "metadata": {
    "collapsed": false
   },
   "outputs": [],
   "source": [
    "do_job(j2, jq)"
   ]
  },
  {
   "cell_type": "code",
   "execution_count": null,
   "metadata": {
    "collapsed": false
   },
   "outputs": [],
   "source": [
    "jq.report()"
   ]
  }
 ],
 "metadata": {
  "kernelspec": {
   "display_name": "Python 2",
   "language": "python",
   "name": "python2"
  },
  "language_info": {
   "codemirror_mode": {
    "name": "ipython",
    "version": 2
   },
   "file_extension": ".py",
   "mimetype": "text/x-python",
   "name": "python",
   "nbconvert_exporter": "python",
   "pygments_lexer": "ipython2",
   "version": "2.7.13"
  }
 },
 "nbformat": 4,
 "nbformat_minor": 2
}
