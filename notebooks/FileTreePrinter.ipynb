{
 "cells": [
  {
   "cell_type": "code",
   "execution_count": 1,
   "metadata": {
    "collapsed": false
   },
   "outputs": [],
   "source": [
    "import os\n",
    "from os import listdir, sep\n",
    "from os.path import abspath, basename, isdir\n",
    "\n",
    "def tree(dir, padding, print_files=False, isLast=False, isFirst=False):\n",
    "    \n",
    "    if os.path.isfile('tree.txt'):\n",
    "        Logfile = open('tree.txt', 'a')\n",
    "    else:\n",
    "        Logfile = open('tree.txt', 'w')\n",
    "        \n",
    "    if basename(dir) == '.git':\n",
    "        return\n",
    "    if basename(dir) == '.ipynb_checkpoints':\n",
    "        return\n",
    "    \n",
    "    if isFirst:\n",
    "        line = padding.decode('utf8')[:-1].encode('utf8') + basename(dir)\n",
    "        #print padding.decode('utf8')[:-1].encode('utf8') + basename(dir)\n",
    "        Logfile.write(line + '\\n')\n",
    "        Logfile.flush()\n",
    "    else:\n",
    "        if isLast:\n",
    "            line = padding.decode('utf8')[:-1].encode('utf8') + '└── ' + basename(abspath(dir))\n",
    "            #print line\n",
    "            Logfile.write(line + '\\n')\n",
    "            Logfile.flush()\n",
    "        else:\n",
    "            line = padding.decode('utf8')[:-1].encode('utf8') + '├── ' + basename(abspath(dir))\n",
    "            #print line\n",
    "            Logfile.write(line + '\\n')\n",
    "            Logfile.flush()\n",
    "    Logfile.flush()\n",
    "    files = []\n",
    "    if print_files:\n",
    "        files = listdir(dir)\n",
    "    else:\n",
    "        files = [x for x in listdir(dir) if isdir(dir + sep + x)]\n",
    "    Logfile.flush()\n",
    "    if not isFirst:\n",
    "        padding = padding + '   '\n",
    "    Logfile.flush()\n",
    "    files = sorted(files, key=lambda s: s.lower())\n",
    "    count = 0\n",
    "    last = len(files) - 1\n",
    "    for i, file in enumerate(files):\n",
    "        count += 1\n",
    "        path = dir + sep + file\n",
    "        isLast = i == last\n",
    "        Logfile.flush()\n",
    "        if isdir(path):\n",
    "            Logfile.flush()\n",
    "            if count == len(files):\n",
    "                if isFirst:\n",
    "                    tree(path, padding, print_files, isLast, False)\n",
    "                else:\n",
    "                    tree(path, padding + ' ', print_files, isLast, False)\n",
    "            else:\n",
    "                tree(path, padding + '│', print_files, isLast, False)\n",
    "        else:\n",
    "            Logfile.flush()\n",
    "            if isLast:\n",
    "                line = padding + '└── ' + file\n",
    "                #print line\n",
    "                Logfile.write(line + '\\n')\n",
    "                Logfile.flush()\n",
    "                \n",
    "            else:\n",
    "                line = padding + '├── ' + file\n",
    "                #print line\n",
    "                Logfile.write(line + '\\n')\n",
    "                Logfile.flush()\n",
    "    \n",
    "    Logfile.flush()\n",
    "    Logfile.flush()           \n"
   ]
  },
  {
   "cell_type": "code",
   "execution_count": 2,
   "metadata": {
    "collapsed": false
   },
   "outputs": [
    {
     "data": {
      "text/plain": [
       "'C:\\\\Users\\\\swc21\\\\GitHub\\\\starcat'"
      ]
     },
     "execution_count": 2,
     "metadata": {},
     "output_type": "execute_result"
    }
   ],
   "source": [
    "topdir = os.path.sep.join(os.path.abspath(os.path.curdir).split(os.path.sep)[:-1])\n",
    "topdir"
   ]
  },
  {
   "cell_type": "code",
   "execution_count": 3,
   "metadata": {
    "collapsed": false
   },
   "outputs": [],
   "source": [
    "Log = open('tree.txt', 'wb')\n",
    "tree(topdir, '', True, False, True)"
   ]
  },
  {
   "cell_type": "code",
   "execution_count": null,
   "metadata": {
    "collapsed": false
   },
   "outputs": [],
   "source": [
    "import os\n",
    "from os import listdir, sep\n",
    "from os.path import abspath, basename, isdir\n",
    "\n",
    "def tree(dir, padding, print_files=False, isLast=False, isFirst=False):\n",
    "    \n",
    "    if os.path.isfile('tree.txt'):\n",
    "        Logfile = open('tree.txt', 'a')\n",
    "    else:\n",
    "        Logfile = open('tree.txt', 'w')\n",
    "        \n",
    "    if basename(dir) == '.git':\n",
    "        return\n",
    "    if basename(dir) == '.ipynb_checkpoints':\n",
    "        return\n",
    "    \n",
    "    if isFirst:\n",
    "        line = padding.decode('utf8')[:-1].encode('utf8') + basename(dir)\n",
    "        #print padding.decode('utf8')[:-1].encode('utf8') + basename(dir)\n",
    "        Logfile.write(line + '\\n')\n",
    "        Logfile.flush()\n",
    "    else:\n",
    "        if isLast:\n",
    "            line = padding.decode('utf8')[:-1].encode('utf8') + '└── ' + basename(abspath(dir))\n",
    "            #print line\n",
    "            Logfile.write(line + '\\n')\n",
    "            Logfile.flush()\n",
    "        else:\n",
    "            line = padding.decode('utf8')[:-1].encode('utf8') + '├── ' + basename(abspath(dir))\n",
    "            #print line\n",
    "            Logfile.write(line + '\\n')\n",
    "            Logfile.flush()\n",
    "    Logfile.flush()\n",
    "    files = []\n",
    "    if print_files:\n",
    "        files = listdir(dir)\n",
    "    else:\n",
    "        files = [x for x in listdir(dir) if isdir(dir + sep + x)]\n",
    "    Logfile.flush()\n",
    "    if not isFirst:\n",
    "        padding = padding + '   '\n",
    "    Logfile.flush()\n",
    "    files = sorted(files, key=lambda s: s.lower())\n",
    "    count = 0\n",
    "    last = len(files) - 1\n",
    "    for i, file in enumerate(files):\n",
    "        count += 1\n",
    "        path = dir + sep + file\n",
    "        isLast = i == last\n",
    "        Logfile.flush()\n",
    "        if isdir(path):\n",
    "            Logfile.flush()\n",
    "            if count == len(files):\n",
    "                if isFirst:\n",
    "                    tree(path, padding, print_files, isLast, False)\n",
    "                else:\n",
    "                    tree(path, padding + ' ', print_files, isLast, False)\n",
    "            else:\n",
    "                tree(path, padding + '│', print_files, isLast, False)\n",
    "        else:\n",
    "            Logfile.flush()\n",
    "            if isLast:\n",
    "                line = padding + '└── ' + file\n",
    "                #print line\n",
    "                Logfile.write(line + '\\n')\n",
    "                Logfile.flush()\n",
    "                \n",
    "            else:\n",
    "                line = padding + '├── ' + file\n",
    "                #print line\n",
    "                Logfile.write(line + '\\n')\n",
    "                Logfile.flush()\n",
    "    \n",
    "    Logfile.flush()\n",
    "    Logfile.flush()           \n"
   ]
  },
  {
   "cell_type": "code",
   "execution_count": null,
   "metadata": {
    "collapsed": false
   },
   "outputs": [],
   "source": []
  },
  {
   "cell_type": "code",
   "execution_count": null,
   "metadata": {
    "collapsed": false
   },
   "outputs": [],
   "source": []
  },
  {
   "cell_type": "code",
   "execution_count": null,
   "metadata": {
    "collapsed": false
   },
   "outputs": [],
   "source": []
  },
  {
   "cell_type": "code",
   "execution_count": null,
   "metadata": {
    "collapsed": false
   },
   "outputs": [],
   "source": []
  },
  {
   "cell_type": "code",
   "execution_count": null,
   "metadata": {
    "collapsed": false
   },
   "outputs": [],
   "source": []
  },
  {
   "cell_type": "code",
   "execution_count": null,
   "metadata": {
    "collapsed": false
   },
   "outputs": [],
   "source": []
  },
  {
   "cell_type": "code",
   "execution_count": null,
   "metadata": {
    "collapsed": false
   },
   "outputs": [],
   "source": []
  },
  {
   "cell_type": "code",
   "execution_count": null,
   "metadata": {
    "collapsed": true
   },
   "outputs": [],
   "source": []
  },
  {
   "cell_type": "code",
   "execution_count": null,
   "metadata": {
    "collapsed": false
   },
   "outputs": [],
   "source": []
  },
  {
   "cell_type": "code",
   "execution_count": null,
   "metadata": {
    "collapsed": true
   },
   "outputs": [],
   "source": []
  },
  {
   "cell_type": "code",
   "execution_count": null,
   "metadata": {
    "collapsed": false
   },
   "outputs": [],
   "source": []
  },
  {
   "cell_type": "code",
   "execution_count": null,
   "metadata": {
    "collapsed": true
   },
   "outputs": [],
   "source": []
  }
 ],
 "metadata": {
  "kernelspec": {
   "display_name": "Python 2",
   "language": "python",
   "name": "python2"
  },
  "language_info": {
   "codemirror_mode": {
    "name": "ipython",
    "version": 2
   },
   "file_extension": ".py",
   "mimetype": "text/x-python",
   "name": "python",
   "nbconvert_exporter": "python",
   "pygments_lexer": "ipython2",
   "version": "2.7.13"
  }
 },
 "nbformat": 4,
 "nbformat_minor": 2
}
